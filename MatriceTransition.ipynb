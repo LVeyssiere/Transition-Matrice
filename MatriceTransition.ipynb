{
 "cells": [
  {
   "cell_type": "markdown",
   "metadata": {},
   "source": [
    "L'objectif de ce Notebook est d'automatiser la production des reportings de matrice de transition \n",
    "\n",
    "# Authentification\n",
    "Télécharger un fichier json de gcp service account pour s'identifier \n",
    "L'authentification se fait ici en chargeant les crédentials d'un fichier \n",
    "voir https://cloud.google.com/bigquery/docs/authentication/service-account-file"
   ]
  },
  {
   "cell_type": "code",
   "execution_count": 1,
   "metadata": {},
   "outputs": [],
   "source": [
    "from google.cloud import bigquery\n",
    "\n",
    "# Explicitly use service account credentials by specifying the private\n",
    "# key file. All clients in google-cloud-python have this helper.\n",
    "client = bigquery.Client.from_service_account_json(r\"C:\\Users\\lveyssiere\\Downloads\\Equipe_DA_DWH_DA_Projects.json\")"
   ]
  },
  {
   "cell_type": "code",
   "execution_count": 2,
   "metadata": {},
   "outputs": [],
   "source": [
    "job_config = bigquery.QueryJobConfig()\n",
    "job_config.use_legacy_sql = False\n",
    "job_config.allow_large_results = True"
   ]
  },
  {
   "cell_type": "markdown",
   "metadata": {},
   "source": [
    "# Requête\n",
    "L'objet de la requête est de construire la matrice de transition \n",
    "Les paramètres de la requête sont le mois actuel, le pays et le mois précédent "
   ]
  },
  {
   "cell_type": "code",
   "execution_count": 3,
   "metadata": {},
   "outputs": [],
   "source": [
    "query_string = \"\"\"\n",
    "\n",
    "-- Liste des variables selectionnées \n",
    "\n",
    "    SELECT \n",
    "    LagN AS Previous_Date,\n",
    "    N AS Current_Date,\n",
    "    A.Company,\n",
    "    #A.Country,        \n",
    "    BranchDescription,\n",
    "     \n",
    "    \n",
    "    LagBranch AS Branch_Previous_Month,\n",
    "    \n",
    "    CASE\n",
    "    WHEN Branch is null THEN LagBranch\n",
    "    ELSE Branch END AS Branch_Current_Month,\n",
    "    \n",
    "    CASE \n",
    "    WHEN DAOName is null THEN \"Unknown\"\n",
    "    ELSE DAOName END AS DAOName,\n",
    "    A.ClientNumber,\n",
    "    ClientType,\n",
    "    A.ClientName,\n",
    "    A.ClientFirstName,LoanCycle,\n",
    "    A.ContractNumber,\n",
    "    Category,\n",
    "    CategoryDesc,\n",
    "    DisbursementDate,\n",
    "    LoanDuration,\n",
    "    \n",
    "    MaturityDate,\n",
    "    \n",
    "    LagLoanStatus AS LoanStatus_Previous_Month,\n",
    "    \n",
    "    CASE WHEN LoanStatus is null THEN \"LIQ\"\n",
    "    ELSE LoanStatus END AS LoanStatus_Current_Month,\n",
    "    \n",
    "    LagExposition AS GLP_Previous_Month,\n",
    "    LagExposition/CurrencyRate AS GLP_Previous_Month_Euro,\n",
    "    \n",
    "    CASE WHEN Exposition is null THEN 0 \n",
    "    ELSE Exposition END AS GLP_Current_Month,\n",
    "    CASE WHEN Exposition is null THEN 0 \n",
    "    ELSE Exposition/CurrencyRate END AS GLP_Current_Month_Euro,\n",
    "    PreviousPrincipalDueAmt/CurrencyRate AS PreviousPrincipalDueAmt,\n",
    "    PrincipalDueAmt/CurrencyRate AS PrincipalDueAmt,\n",
    "    PreviousTotalDueAmt/CurrencyRate AS PreviousTotalDueAmt,\n",
    "    TotalDueAmt/CurrencyRate AS TotalDueAmt,\n",
    "    \n",
    "    \n",
    "    CASE\n",
    "        WHEN (LagNbOverdueDays<1   OR LagNbOverdueDays is null) AND LagExposition>0 THEN \"0- Healthy\"\n",
    "        WHEN LagNbOverdueDays>=1   AND LagNbOverdueDays<=30      AND LagExposition>0 THEN \"1- %   1-30\"\n",
    "        WHEN LagNbOverdueDays>=31  AND LagNbOverdueDays<=60      AND LagExposition>0 THEN \"2- %  31-60\"\n",
    "        WHEN LagNbOverdueDays>=61  AND LagNbOverdueDays<=90      AND LagExposition>0 THEN \"3- %  61-90\"\n",
    "        WHEN LagNbOverdueDays>=91  AND LagNbOverdueDays<=120  AND LagExposition>0 THEN \"4- %  91-120\"\n",
    "        WHEN LagNbOverdueDays>=121 AND LagNbOverdueDays<=150  AND LagExposition>0 THEN \"5- % 121-150\"\n",
    "        WHEN LagNbOverdueDays>=151 AND LagNbOverdueDays<=180  AND LagExposition>0 THEN \"6- % 151-180\"\n",
    "        WHEN LagNbOverdueDays>180  AND Exposition>0 THEN \"7- % >180\"\n",
    "        WHEN LagExposition = 0 then \"0- Close\"\n",
    "    ELSE \"Unknown\"\n",
    "    END AS ParType_Previous_Month,\n",
    "\n",
    "    CASE\n",
    "        WHEN (NbOverdueDays<1 OR NbOverdueDays is null) AND Exposition>0 THEN \"0- Healthy\"\n",
    "        WHEN NbOverdueDays>=1 AND NbOverdueDays<=30 AND Exposition>0    THEN \"1- %   1-30\"\n",
    "        WHEN NbOverdueDays>=31 AND NbOverdueDays<=60 AND Exposition>0   THEN \"2- %  31-60\"\n",
    "        WHEN NbOverdueDays>=61 AND NbOverdueDays<=90 AND Exposition>0   THEN \"3- %  61-90\"\n",
    "        WHEN NbOverdueDays>=91 AND NbOverdueDays<=120 AND Exposition>0  THEN \"4- %  91-120\"\n",
    "        WHEN NbOverdueDays>=121 AND NbOverdueDays<=150 AND Exposition>0 THEN \"5- % 121-150\"\n",
    "        WHEN NbOverdueDays>=151 AND NbOverdueDays<=180 AND Exposition>0 THEN \"6- % 151-180\"\n",
    "        WHEN NbOverdueDays>180 AND Exposition>0 THEN \"7- % >180\"\n",
    "        WHEN (Exposition = 0 OR Exposition is null) \n",
    "             AND (LagNbOverdueDays<=150 OR LagNbOverdueDays is null) THEN \"0- Closed\"\n",
    "        WHEN (Exposition = 0 OR Exposition is null) \n",
    "             AND LagNbOverdueDays>150 THEN \"9- Written off\"\n",
    "    ELSE \"Unknown\"\n",
    "    END AS ParType_Current_Month,\n",
    "\n",
    "    LagNbOverdueDays AS NbOverdueDays_Previous_Month,\n",
    "    \n",
    "    CASE \n",
    "    WHEN NbOverdueDays is null THEN 0 \n",
    "    ELSE NbOverdueDays END AS NbOverdueDays,\n",
    "    \n",
    "    CASE WHEN LagMaxOverdueDays is null THEN 0 \n",
    "    ELSE MaxOverdueDays END AS MaxOverdueDays_Previous_Month,\n",
    "    \n",
    "    CASE \n",
    "    WHEN MaxOverdueDays is null THEN 0 \n",
    "    ELSE MaxOverdueDays END AS MaxOverdueDays,\n",
    "    \n",
    "    LagMaxScheduleDate AS MaxScheduleDate_Previous_Month,\n",
    "    \n",
    "    CASE WHEN NextScheduleDate is null THEN \"{moisN}\"\n",
    "    ELSE NextScheduleDate END AS NextScheduleDate,\n",
    "    \n",
    "    LagRestructuration AS Restructuration_Previous_Month,Restructuration,\n",
    "    LagDisbursementAmount, DisbursementAmount,\n",
    "    LagDisbursementAmount/CurrencyRate AS LagDisbursementAmountEuro, \n",
    "    DisbursementAmount/CurrencyRate AS DisbursementAmountEuro,\n",
    "    LagDisbursed,Disbursed,\n",
    "    LagDisbursed/CurrencyRate AS LagDisbursedEuro,\n",
    "    Disbursed/CurrencyRate AS DisbursedEuro,B.Currency, CurrencyRate\n",
    "\n",
    "-- Data are gathered from the mcr_loan consolidé \n",
    "\n",
    "\n",
    "FROM\n",
    "\n",
    "-- Block A extrait les données pour le mois précédent \n",
    "\n",
    "(SELECT\n",
    "\"{moisLagN}\" AS LagN,\n",
    "ClientNo AS ClientNumber,AccountContractNo AS ContractNumber,ClientName,ClientFirstName,DAOName AS LagDAOName,Branch AS LagBranch,\n",
    "LoanCycle,Category,CategoryDesc,\n",
    "DisbursementDate,LoanDuration,LoanStatus AS LagLoanStatus,PrincipalOutstanding+TotalPrincipalDueAmt AS LagExposition,\n",
    "TotalCurNoOfDaysOverdue AS LagNbOverdueDays,\n",
    "MaxOverdueDays AS LagMaxOverdueDays,\n",
    "NextScheduleDate AS LagMaxScheduleDate,\n",
    "DisbursementAmount AS LagDisbursementAmount,\n",
    "TotalPrincipalDueAmt AS PreviousPrincipalDueAmt,\n",
    "TotalDueAmt AS PreviousTotalDueAmt,\n",
    "Currency,DateData,\n",
    "\n",
    "CASE \n",
    "  WHEN Extract(Month FROM DisbursementDate)=Extract(Month FROM DateData)\n",
    "  AND  Extract(Year FROM DisbursementDate)=Extract(Year FROM DateData) THEN DisbursementAmount\n",
    "ELSE 0 END AS LagDisbursed,\n",
    "\n",
    "CASE \n",
    "WHEN LoanCycle=1 then \"New Client\"\n",
    "ELSE \"Renewed Client\"\n",
    "END AS ClientType,\n",
    "Date(MaturityDate) AS MaturityDate,\n",
    "RestructurationIndicator AS LagRestructuration,\n",
    "Company,\n",
    "CASE \n",
    "    WHEN Company=\"MCCD\" THEN \"MCCN\"\n",
    "    WHEN Company=\"MCNC\" THEN \"MCCN\"\n",
    "    ELSE Company\n",
    "    END\n",
    "AS Country\n",
    "\n",
    "from `ConsolidatedFiles.mcr_loan`\n",
    "        \n",
    "        WHERE Date(DateData)=\"{moisLagN}\") A\n",
    "\n",
    "LEFT JOIN \n",
    "\n",
    "-- Block B extrait les données pour le mois actuel \n",
    "\n",
    "(SELECT\n",
    "\"{moisN}\" AS N,\n",
    "ClientNo AS ClientNumber,AccountContractNo AS ContractNumber,ClientName,ClientFirstName,DAOName,Branch,\n",
    "LoanStatus,PrincipalOutstanding+TotalPrincipalDueAmt AS Exposition,\n",
    "TotalCurNoOfDaysOverdue AS NbOverdueDays,\n",
    "MaxOverdueDays AS MaxOverdueDays, \n",
    "NextScheduleDate AS NextScheduleDate,\n",
    "DisbursementAmount, \n",
    "DateData,\n",
    "TotalPrincipalDueAmt AS PrincipalDueAmt,\n",
    "TotalDueAmt,\n",
    "\n",
    "CASE \n",
    "  WHEN Extract(Month FROM DisbursementDate)=Extract(Month FROM DateData)\n",
    "  AND  Extract(Year FROM DisbursementDate)=Extract(Year FROM DateData) THEN DisbursementAmount\n",
    "ELSE 0 END AS Disbursed,\n",
    "RestructurationIndicator AS Restructuration,\n",
    "Company, \n",
    "CASE \n",
    "    WHEN Company=\"MCCD\" THEN \"MCCN\"\n",
    "    WHEN Company=\"MCNC\" THEN \"MCCN\"\n",
    "    ELSE Company\n",
    "    END\n",
    "AS Country,Currency\n",
    "\n",
    "from `ConsolidatedFiles.mcr_loan`\n",
    "\n",
    "WHERE Date(DateData)=\"{moisN}\") B\n",
    "\n",
    "-- la Jointure ce fait sur le numéro client, contrat pour chaque pays \n",
    "\n",
    "ON A.Company=B.Company AND A.ClientNumber=B.ClientNumber AND A.ContractNumber=B.ContractNumber\n",
    "\n",
    "-- Ajout de la description des agences \n",
    "\n",
    "LEFT JOIN \n",
    "\n",
    "(SELECT Subsidiary, BranchID, MAX(BranchName) AS BranchDescription\n",
    "    FROM Alpha_DWH.Branch_20190515_V2 WHERE ((BranchName <> \"\") OR (BranchName is not null))\n",
    "    GROUP BY Subsidiary,BranchID) C\n",
    "\n",
    "ON A.Company=C.Subsidiary AND A.LagBranch=C.BranchID\n",
    "\n",
    "-- Ajout du taux de change TO DO \n",
    "\n",
    "LEFT JOIN \n",
    "\n",
    " `group_ops.Currencyrates2` D\n",
    "\n",
    "ON A.Company=D.Company AND A.Currency=D.Currency -- Obligé de prendre lag sinon pas d'info \n",
    "AND Extract(Month FROM A.DateData)=D.Month\n",
    "AND Extract(Year FROM A.DateData)=D.Year\n",
    "\n",
    "WHERE  LagExposition>0 \n",
    "        AND CASE WHEN \"{pays}\"<> \"Consolide\" THEN A.Country=\"{pays}\"\n",
    "                 ELSE A.Company=A.Company END \n",
    "\n",
    "/* V1 Matrice de transition \n",
    "Axes d'amélioration \n",
    "- automatiser le block d'entrée avec le taux de change des différentes variables \n",
    "\n",
    "\n",
    "*/\n",
    "\n",
    "\"\"\"\n"
   ]
  },
  {
   "cell_type": "markdown",
   "metadata": {},
   "source": [
    "# Boucle \n",
    "La boucle automatise la creation des fichiers csv "
   ]
  },
  {
   "cell_type": "markdown",
   "metadata": {},
   "source": [
    "Définition de la période du calcul de la matrice de transition date de début de semaine et date de fin de semaine "
   ]
  },
  {
   "cell_type": "code",
   "execution_count": 4,
   "metadata": {},
   "outputs": [
    {
     "name": "stdout",
     "output_type": "stream",
     "text": [
      "2019-06-24\n",
      "2019-06-17\n"
     ]
    }
   ],
   "source": [
    "import datetime\n",
    "jour = datetime.datetime.now() - datetime.timedelta(days=1)\n",
    "datefin=jour.date()\n",
    "print(datefin)\n",
    "datedebut = jour - datetime.timedelta(days=7)\n",
    "datedebut = datedebut.date()\n",
    "print(datedebut)\n"
   ]
  },
  {
   "cell_type": "markdown",
   "metadata": {},
   "source": [
    "Selection des pays "
   ]
  },
  {
   "cell_type": "code",
   "execution_count": 13,
   "metadata": {},
   "outputs": [
    {
     "name": "stdout",
     "output_type": "stream",
     "text": [
      "2019-06-01\n"
     ]
    }
   ],
   "source": [
    "datedebut=\"2019-06-01\"\n",
    "print(datedebut)\n",
    "#datefin=\"2019-06-10\"\n",
    "list_pays=['MCMG','MCBF','MCNG','MCML','MCSN','MCTN','MCZW','MCDC','MCCN','MCCI','Consolide']"
   ]
  },
  {
   "cell_type": "markdown",
   "metadata": {},
   "source": [
    "Boucle for permettant le calcul de chacune des bases de données "
   ]
  },
  {
   "cell_type": "code",
   "execution_count": 14,
   "metadata": {},
   "outputs": [
    {
     "name": "stdout",
     "output_type": "stream",
     "text": [
      "MCMG\n",
      "MCBF\n",
      "MCNG\n",
      "MCML\n",
      "MCSN\n",
      "MCTN\n",
      "MCZW\n",
      "MCDC\n",
      "MCCN\n",
      "MCCI\n",
      "Consolide\n"
     ]
    }
   ],
   "source": [
    "for countries in list_pays:\n",
    "    print(countries)\n",
    "    query_job = client.query(query_string.format(moisLagN = datedebut,moisN = datefin,pays=countries))\n",
    "    raw_data = query_job.to_dataframe()\n",
    "    raw_data.to_csv(r\"C:\\Users\\lveyssiere\\Desktop\\Transition_{pays}.csv\".format(pays=countries), index=False),\n",
    "    "
   ]
  },
  {
   "cell_type": "markdown",
   "metadata": {},
   "source": [
    "Envoi d'email \n",
    "Définition des personnes ? "
   ]
  },
  {
   "cell_type": "code",
   "execution_count": 17,
   "metadata": {},
   "outputs": [
    {
     "data": {
      "text/plain": [
       "(250,\n",
       " b'smtp.gmail.com at your service, [178.20.52.56]\\nSIZE 35882577\\n8BITMIME\\nSTARTTLS\\nENHANCEDSTATUSCODES\\nPIPELINING\\nCHUNKING\\nSMTPUTF8')"
      ]
     },
     "execution_count": 17,
     "metadata": {},
     "output_type": "execute_result"
    }
   ],
   "source": [
    "import smtplib\n",
    "conn = smtplib.SMTP('smtp.gmail.com', 587)\n",
    "conn.ehlo()"
   ]
  },
  {
   "cell_type": "code",
   "execution_count": 18,
   "metadata": {},
   "outputs": [
    {
     "data": {
      "text/plain": [
       "(220, b'2.0.0 Ready to start TLS')"
      ]
     },
     "execution_count": 18,
     "metadata": {},
     "output_type": "execute_result"
    }
   ],
   "source": [
    "conn.starttls()"
   ]
  },
  {
   "cell_type": "code",
   "execution_count": 22,
   "metadata": {},
   "outputs": [
    {
     "data": {
      "text/plain": [
       "False"
      ]
     },
     "execution_count": 22,
     "metadata": {},
     "output_type": "execute_result"
    }
   ],
   "source": [
    "x=0.1\n",
    "x+0.2==0.3"
   ]
  },
  {
   "cell_type": "code",
   "execution_count": 23,
   "metadata": {},
   "outputs": [
    {
     "ename": "NameError",
     "evalue": "name 'Print' is not defined",
     "output_type": "error",
     "traceback": [
      "\u001b[1;31m---------------------------------------------------------------------------\u001b[0m",
      "\u001b[1;31mNameError\u001b[0m                                 Traceback (most recent call last)",
      "\u001b[1;32m<ipython-input-23-10ad58218eb6>\u001b[0m in \u001b[0;36m<module>\u001b[1;34m\u001b[0m\n\u001b[1;32m----> 1\u001b[1;33m \u001b[0mPrint\u001b[0m\u001b[1;33m(\u001b[0m\u001b[0mx\u001b[0m\u001b[1;33m+\u001b[0m\u001b[1;36m0.2\u001b[0m\u001b[1;33m)\u001b[0m\u001b[1;33m\u001b[0m\u001b[1;33m\u001b[0m\u001b[0m\n\u001b[0m",
      "\u001b[1;31mNameError\u001b[0m: name 'Print' is not defined"
     ]
    }
   ],
   "source": [
    "\n"
   ]
  },
  {
   "cell_type": "code",
   "execution_count": null,
   "metadata": {},
   "outputs": [],
   "source": []
  }
 ],
 "metadata": {
  "kernelspec": {
   "display_name": "Python 3",
   "language": "python",
   "name": "python3"
  },
  "language_info": {
   "codemirror_mode": {
    "name": "ipython",
    "version": 3
   },
   "file_extension": ".py",
   "mimetype": "text/x-python",
   "name": "python",
   "nbconvert_exporter": "python",
   "pygments_lexer": "ipython3",
   "version": "3.7.3"
  }
 },
 "nbformat": 4,
 "nbformat_minor": 2
}
